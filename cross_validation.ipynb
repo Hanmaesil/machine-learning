{
 "cells": [
  {
   "cell_type": "code",
   "execution_count": null,
   "id": "91a6272d",
   "metadata": {},
   "outputs": [],
   "source": [
    "교차검증\n",
    "\n",
    "모델에 학습을 할 때 한번 학습하는것이 아니고\n",
    "하이퍼 파라미터 튜닝을 여러번 진행하고 학습 평가\n",
    "\n",
    "- 기존 문제점\n",
    "고정되어있는 데이터 셋에 학습/ 평가를 함\n",
    "> 머신러닝 모델이 고정되어있는 데이터셋에만 잘 동작함\n",
    "> 새로운 데이터가 들어오게 되면 이 데이터는 평가를 잘 내리지 못함\n",
    "->> 이런 문제점을 해결하기 위해서 사용하는 방법이\n",
    "교차검증이다!(cross_validation)"
   ]
  }
 ],
 "metadata": {
  "kernelspec": {
   "display_name": "Python 3 (ipykernel)",
   "language": "python",
   "name": "python3"
  },
  "language_info": {
   "codemirror_mode": {
    "name": "ipython",
    "version": 3
   },
   "file_extension": ".py",
   "mimetype": "text/x-python",
   "name": "python",
   "nbconvert_exporter": "python",
   "pygments_lexer": "ipython3",
   "version": "3.9.7"
  },
  "toc": {
   "base_numbering": 1,
   "nav_menu": {},
   "number_sections": true,
   "sideBar": true,
   "skip_h1_title": false,
   "title_cell": "Table of Contents",
   "title_sidebar": "Contents",
   "toc_cell": false,
   "toc_position": {},
   "toc_section_display": true,
   "toc_window_display": false
  }
 },
 "nbformat": 4,
 "nbformat_minor": 5
}

{
 "cells": [
  {
   "cell_type": "code",
   "execution_count": null,
   "id": "b048022c",
   "metadata": {},
   "outputs": [],
   "source": [
    "머신러닝의 종류"
   ]
  },
  {
   "cell_type": "code",
   "execution_count": null,
   "id": "0848e991",
   "metadata": {},
   "outputs": [],
   "source": [
    "# 지도학습\n",
    "- 문제와 정답을 통해서 머신러닝이 학습하는 방법\n",
    "- 데이터에대한 Label(명시적인 답 == 정답)이 주어진 상태에서 컴퓨터를 학습시키는 방법\n",
    "- 분류와 회귀로 나뉘어진다\n",
    "- 분류 : 답이 정해져있다, 회귀 : 답이 정해져있지 않다"
   ]
  },
  {
   "cell_type": "code",
   "execution_count": null,
   "id": "1249f97f",
   "metadata": {},
   "outputs": [],
   "source": [
    "분류\n",
    "- 미리 정의된 여러 정답의 종류 중 에서 하나를 예측하는것(ex 혈액형 맞추기)\n",
    "- 속성 값(문제)을 입력, 클래스 값(정답)을 출력하는 모델\n",
    "- 이진분류 : 둘중에 하나를 예측하는 방법(예 / 아니오)\n",
    "- 다중분류 : 여러개중 하나를 예측하는 방법"
   ]
  },
  {
   "cell_type": "code",
   "execution_count": null,
   "id": "17f0ec38",
   "metadata": {},
   "outputs": [],
   "source": [
    "회귀\n",
    "- 연속적인 숫자를 예측하는 것( == 정답의 종류가 정해지지 않음)\n",
    "- 예측 값의 미묘한 차이가 크게 중요하지 않다.\n",
    "- 속성값(문제)을 입력, 연속적인 실수 값(정답)을 출력하는 모델"
   ]
  },
  {
   "cell_type": "code",
   "execution_count": null,
   "id": "2b8e21cd",
   "metadata": {},
   "outputs": [],
   "source": [
    "#비지도 학습\n",
    "- 문제만 있는 데이터로 머신러닝이 학습하는 방법\n",
    "- 데이터에 대한 Label(명시적인 답 == 정답)이 없는 상태에서 컴퓨터를 학습시키는 방법\n",
    "- 데이터의 숨겨진 특징, 구조, 패턴을 파악하는데 사용\n",
    "- 데이터를 비슷한 특성끼리 묶는 클러스터링과 차원축소 등이 있다."
   ]
  },
  {
   "cell_type": "code",
   "execution_count": null,
   "id": "ee762221",
   "metadata": {},
   "outputs": [],
   "source": [
    "클러스터링(군집) : 비슷한 데이터끼리 묶어줌\n",
    "차원축소 : 의미는 가지고 있는채로 차원을 줄인다.(데이터의 가시성과 판단에 도움이 된다)"
   ]
  },
  {
   "cell_type": "code",
   "execution_count": null,
   "id": "24872740",
   "metadata": {},
   "outputs": [],
   "source": [
    "#강화학습\n",
    "- 지도학습과 비슷하지만 완전한 답을 제공하지 않는 특징이 있다\n",
    "- 주로 게임이나 로봇을 학습시키는데 많이 사용한다.\n",
    "- 기계는 더 많은 보상을 얻을 수 있는 방향으로 행동을 학습"
   ]
  },
  {
   "cell_type": "code",
   "execution_count": null,
   "id": "910a2d34",
   "metadata": {},
   "outputs": [],
   "source": [
    "#머신러닝의 활용분야\n",
    "- 기존 솔류션으로는 많은 수동 조정과 규칙이 필요한 문제\n",
    "- 전통적인 방식으로는 전혀 해결 방법이 없는 복잡한 문제\n",
    "- 새로운 데이터에 적응해야하는 유동적인 환경\n",
    "- 대량의 데이터에서 통찰을 얻어야 하는 문제"
   ]
  }
 ],
 "metadata": {
  "kernelspec": {
   "display_name": "Python 3 (ipykernel)",
   "language": "python",
   "name": "python3"
  },
  "language_info": {
   "codemirror_mode": {
    "name": "ipython",
    "version": 3
   },
   "file_extension": ".py",
   "mimetype": "text/x-python",
   "name": "python",
   "nbconvert_exporter": "python",
   "pygments_lexer": "ipython3",
   "version": "3.9.7"
  },
  "toc": {
   "base_numbering": 1,
   "nav_menu": {},
   "number_sections": true,
   "sideBar": true,
   "skip_h1_title": false,
   "title_cell": "Table of Contents",
   "title_sidebar": "Contents",
   "toc_cell": false,
   "toc_position": {},
   "toc_section_display": true,
   "toc_window_display": false
  }
 },
 "nbformat": 4,
 "nbformat_minor": 5
}
